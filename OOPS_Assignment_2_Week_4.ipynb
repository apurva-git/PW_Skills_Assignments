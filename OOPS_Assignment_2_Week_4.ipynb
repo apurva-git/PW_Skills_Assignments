{
 "cells": [
  {
   "cell_type": "markdown",
   "id": "ff7e9434",
   "metadata": {},
   "source": [
    "Q1. What is Abstraction in OOps? Explain with an example."
   ]
  },
  {
   "cell_type": "markdown",
   "id": "690826f5",
   "metadata": {},
   "source": [
    "Abstraction in python is defined as a process of handling complexity by hiding unnecessary information from the user. \n",
    "It enables the user to implement even more complex logic on top of the provided abstraction without understanding or even thinking about all the hidden background/back-end complexity.\n",
    "\n",
    "Advantages of Abstraction:\n",
    "\n",
    "1.Privacy of data is maintained since only relevant data is visible to the user.\n",
    "\n",
    "2.Reduces the complexity of code and increases readability.\n",
    "\n",
    "3.The class which implements the abstraction can be used as a parent class by inheriting them, hence improving reusability, and reducing duplication.\n",
    "\n",
    "4.Abstraction makes applications extendable and simplifies refactoring.\n",
    "\n",
    "5.When developing with the abstraction’s superior level, you communicate more on the behavior and less on the implementation.\n",
    "\n",
    "6.It enables effective simulation of a real-world event. It helps you to invent solutions to real-world problems.\n",
    "\n",
    "7.It simplifies maintaining and modifying the existing code because new objects can be developed with minor differences from the existing ones.\n",
    "\n",
    "8.It offers a decent framework for code libraries wherein the programmer can easily tailor the provided software components.\n",
    "\n",
    "9.It is principally useful for developing GUI.\n",
    "\n",
    "10.When you modify your code implemented with an abstraction, the abstraction’s users need not modify their code. The users need to change their code only when the abstraction changes.\n",
    "\n",
    "11.When writing code that uses abstraction, it can be reused against any new code that executes that abstraction. So, with less coding, it helps you do more.\n",
    "\n",
    "12.Abstraction uses extension points to let the choice be reflected in a different portion of which original code runs. This choice could be done in any part of your program, in another program, or at runtime.\n",
    "\n",
    "Example:\n",
    "Social platforms allows us to share images,posts,add friendsetc. but we don't know how those operations are happening in the background."
   ]
  },
  {
   "cell_type": "markdown",
   "id": "2ae0354c",
   "metadata": {},
   "source": [
    "Q2. Differentiate between Abstraction and Encapsulation. Explain with an example."
   ]
  },
  {
   "cell_type": "markdown",
   "id": "5fb49f63",
   "metadata": {},
   "source": [
    "Definition:\n",
    "\n",
    "Abstraction is hiding the details and implementation of the code.\n",
    "Encapsulation is hiding the data and controlling the visibility of the code.\n",
    "\n",
    "Phase:\n",
    "\n",
    "Abstraction is a design level process.\n",
    "Encapsulation is an implementation level process.\n",
    "\n",
    "Pivotal Ability:\n",
    "\n",
    "Abstraction is concerned about what a class instance can do, instead of the implementation of the class.\n",
    "Encapsulation helps in data binding and control over maintaining the transparency of the data.\n",
    "\n",
    "Use Case:\n",
    "\n",
    "Abstraction is a design level process and it is used to reduce the complexity at the designing stage of a project.\n",
    "Encapsulation is an implementation level process, and it is used to provide privacy and maintain control over the transparency of data at the implementation stage of a project.\n",
    "\n",
    "How to Implement:\n",
    "\n",
    "Abstraction can be achieved using class and interfaces in java.\n",
    "Encapsulation is also implemented using classes and the control over data privacy is obtained by specifying access specifiers like protected, public, private.\n",
    "\n",
    "Focus:\n",
    "\n",
    "The prominent difference between Encapsulation and Abstraction lies in the focus. Abstraction mainly focuses on what must be done, whereas encapsulation mainly focuses on how it must be done. Understanding this difference between Abstraction and Encapsulation in Python helps you to design solutions faster.\n",
    "\n",
    "Data representation:\n",
    "\n",
    "One significant difference between Abstraction and Encapsulation in Java is how they represent data. Abstraction represents only useful data, whereas encapsulation wraps data and codes for necessary information. Moreover, it helps developers to easily organize the whole code.\n",
    "\n",
    "Hiding:\n",
    "\n",
    "Abstraction provides you with a more abstract overview and thus hides the complexity. Encapsulation hides the internal working, which helps you to change it later.\n",
    "\n",
    "Program partition:\n",
    "\n",
    "Another key difference between Abstraction and Encapsulation in Java is the way programs are partitioned. Abstraction can partition the program into several distinct fragments whereas Encapsulation can be easily adapted to the new requirements.\n",
    "\n",
    "Problem-solving:\n",
    "\n",
    "Abstraction solves problems at the design level whereas Encapsulation does at the implementation level.\n",
    "\n",
    "Abstraction Example:\n",
    "If I create a function that multiply only 5 and 2 it will not be fruitful.\n",
    "If I create a function that can multiply any two numbers which is input then it will be useful.\n",
    "\n",
    "\n",
    "Encapsulation Example:\n",
    "If you have a class that has one or more private fields that you use to store the data, then the user will not be able to see that data.Instead it will be able to see and use public data and be able to use the private data indirectly.\n"
   ]
  },
  {
   "cell_type": "markdown",
   "id": "482515ab",
   "metadata": {},
   "source": [
    "Q3. What is abc module in python? Why is it used?"
   ]
  },
  {
   "cell_type": "markdown",
   "id": "313e6e79",
   "metadata": {},
   "source": [
    "The ‘abc’ module in the Python library provides the infrastructure for defining custom abstract base classes.\n",
    "\n",
    "Abstract class cannot be instantiated in python. An Abstract method can be call by its subclasses.\n",
    "\n",
    "It provides us:\n",
    "1. ABCMeta\n",
    "2. ABC(helper class )\n",
    "these are keywords used to create an abstract class.\n",
    "\n",
    "ABCMeta:\n",
    "It is a metaclass for defining the abstract class.\n",
    "\n",
    "ABC:\n",
    "It is a helper class. we can use it in the area where we want to avoid the confusion of metaclass usage.\n",
    "\n",
    "@abstractmethod:\n",
    "\n",
    "It is used to make the method of the abstract class as an abstract method.\n",
    "\n",
    "The abstract methods can be called using any of the normal ‘super’ call mechanisms. \n",
    "abstractmethod() may be used to declare abstract methods for properties and descriptors.\n",
    "\n",
    "Dynamically adding abstract methods to a class, or attempting to modify the abstraction status of a method or class once it is created, are not supported. The abstractmethod() only affects subclasses derived using regular inheritance; “virtual subclasses” registered with the ABC’s register() method are not affected."
   ]
  },
  {
   "cell_type": "markdown",
   "id": "747aaa92",
   "metadata": {},
   "source": [
    "Q4. How can we achieve data abstraction?"
   ]
  },
  {
   "cell_type": "markdown",
   "id": "5d775323",
   "metadata": {},
   "source": [
    "Abstraction can be achieved by using abstract classes and interfaces.\n",
    "\n",
    "A class that consists of one or more abstract method is called the abstract class. \n",
    "Abstract methods do not contain their implementation. \n",
    "Abstract class can be inherited by the subclass and abstract method gets its definition in the subclass. \n",
    "Abstraction classes are meant to be the blueprint of the other class. \n",
    "It can be useful when we are designing large functions. \n",
    "It is also helpful to provide the standard interface for different implementations of components. \n",
    "Python provides the abc module to use the abstraction in the Python program.\n",
    "\n",
    "Syntax:\n",
    "from abc import ABC  \n",
    "class ClassName(ABC)"
   ]
  },
  {
   "cell_type": "markdown",
   "id": "d8e20cee",
   "metadata": {},
   "source": [
    "Q5. Can we create an instance of an abstract class? Explain your answer."
   ]
  },
  {
   "cell_type": "markdown",
   "id": "76b684cb",
   "metadata": {},
   "source": [
    "Abstraction classes are meant to be the blueprint of the other class. \n",
    "As they are not complete,they may have some methods that are not defined.\n",
    "So we cannot create an instance or object of an abstract class in Python.\n",
    "Even if we try to instantiate the abstract class, it raises an error."
   ]
  }
 ],
 "metadata": {
  "kernelspec": {
   "display_name": "Python 3 (ipykernel)",
   "language": "python",
   "name": "python3"
  },
  "language_info": {
   "codemirror_mode": {
    "name": "ipython",
    "version": 3
   },
   "file_extension": ".py",
   "mimetype": "text/x-python",
   "name": "python",
   "nbconvert_exporter": "python",
   "pygments_lexer": "ipython3",
   "version": "3.10.9"
  }
 },
 "nbformat": 4,
 "nbformat_minor": 5
}
