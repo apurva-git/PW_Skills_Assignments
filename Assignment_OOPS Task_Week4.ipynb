{
 "cells": [
  {
   "cell_type": "markdown",
   "id": "5294f1d7-e1c5-4be6-a37a-7bb14d01a4c3",
   "metadata": {},
   "source": [
    "Q1, Create a vehicle class with an init method having instance variables as name_of_vehicle, max_speed\n",
    "and average_of_vehicle. "
   ]
  },
  {
   "cell_type": "code",
   "execution_count": 1,
   "id": "344a1dc7-b446-42ab-9c5b-5c8af71b37d3",
   "metadata": {},
   "outputs": [],
   "source": [
    "#Creation of Class vehicle\n",
    "class vehicle:\n",
    "    def __init__(self,name_of_vehicle,max_speed,average_of_vehicle):\n",
    "        \n",
    "        self.name_of_vehicle = name_of_vehicle\n",
    "        self.max_speed=max_speed\n",
    "        self.average_of_vehicle=average_of_vehicle\n",
    "        \n",
    "        "
   ]
  },
  {
   "cell_type": "code",
   "execution_count": 2,
   "id": "3cb199a6-0ee3-4fbc-b36d-933e010435a3",
   "metadata": {},
   "outputs": [
    {
     "name": "stdout",
     "output_type": "stream",
     "text": [
      "The details are :\n",
      "Name of the vehicle: Venue \n",
      "Maximum speed :  140 \n",
      "Average of the vehicle :  20\n"
     ]
    }
   ],
   "source": [
    "#Execution\n",
    "v=vehicle(\"Venue\",140,20)\n",
    "print(\"The details are :\\nName of the vehicle:\",v.name_of_vehicle,\"\\nMaximum speed : \",v.max_speed,\"\\nAverage of the vehicle : \",v.average_of_vehicle)"
   ]
  },
  {
   "cell_type": "markdown",
   "id": "68df999b-bdda-4173-aea7-2b38c1c9bd72",
   "metadata": {},
   "source": [
    "Q2.  Create a child class car from the vehicle class created in Que 1, which will inherit the vehicle class.\n",
    "Create a method named seating_capacity which takes capacity as an argument and returns the name of\n",
    "the vehicle and its seating capacity."
   ]
  },
  {
   "cell_type": "code",
   "execution_count": 3,
   "id": "2bbc9a2b-64f9-40de-9a16-5d8b3791ba20",
   "metadata": {},
   "outputs": [],
   "source": [
    "#Creation\n",
    "class car(vehicle):\n",
    "    def seating_capacity(self,capacity):\n",
    "        self.capacity=capacity\n",
    "        return (\"The Vehicle named \",self.name_of_vehicle,\" has a seating capacity of \",self.capacity)\n",
    "    \n",
    "    "
   ]
  },
  {
   "cell_type": "code",
   "execution_count": 4,
   "id": "ad885acf-2fcb-4181-83ac-7582caf5e7ef",
   "metadata": {},
   "outputs": [
    {
     "data": {
      "text/plain": [
       "('The Vehicle named ', 'Venue', ' has a seating capacity of ', 5)"
      ]
     },
     "execution_count": 4,
     "metadata": {},
     "output_type": "execute_result"
    }
   ],
   "source": [
    "#Execution\n",
    "c=car(\"Venue\",140,20)\n",
    "c.seating_capacity(5)"
   ]
  },
  {
   "cell_type": "markdown",
   "id": "e6370a96-2aac-45a3-ad5a-053c321927ca",
   "metadata": {},
   "source": [
    "Q3. What is multiple inheritance? Write a python code to demonstrate multiple inheritance."
   ]
  },
  {
   "cell_type": "markdown",
   "id": "fbb15b16",
   "metadata": {},
   "source": [
    "Multiple inheritance is when a child class is derived from more than one class.\n",
    "This derived child class will inherit the properties of all the classes that it is derived from.\n",
    "\n",
    "Example:A child inheriting properties of the father and mother."
   ]
  },
  {
   "cell_type": "code",
   "execution_count": 5,
   "id": "9cce5545",
   "metadata": {},
   "outputs": [
    {
     "name": "stdout",
     "output_type": "stream",
     "text": [
      "Hi All,I am part of the father class.\n",
      "Hi All,I am part of the mother class.\n",
      "Hi All,I am part of the child class\n"
     ]
    }
   ],
   "source": [
    "class father:\n",
    "    def father_func(self):\n",
    "        print(\"Hi All,I am part of the father class.\")\n",
    "        \n",
    "class mother:\n",
    "    def mother_func(self):\n",
    "        print(\"Hi All,I am part of the mother class.\")\n",
    "\n",
    "class child(father,mother):\n",
    "    def child_func(self):\n",
    "        print(\"Hi All,I am part of the child class\")\n",
    "\n",
    "c=child()\n",
    "c.father_func()\n",
    "c.mother_func()\n",
    "c.child_func()"
   ]
  },
  {
   "cell_type": "markdown",
   "id": "d7093b4a-6079-42a3-a73a-89fbb930f4b5",
   "metadata": {},
   "source": [
    "Q4. What are getter and setter in python? Create a class and create a getter and a setter method in this\n",
    "class."
   ]
  },
  {
   "cell_type": "markdown",
   "id": "0b847e3d",
   "metadata": {},
   "source": [
    "Encapsulation describes the idea of wrapping data and the methods that work on data within one unit. This puts restrictions on accessing variables and methods directly and can prevent the accidental modification of data. To prevent accidental change, an object’s variable can only be changed by an object’s method. \n",
    "\n",
    "Getter and Setter is an application of this Encapsulation concept.\n",
    "It helps in access and mutation operations,without directy exposing the non public attributes and methods in a class.\n",
    "\n",
    "Getter: A method that allows you to access an attribute in a given class i.e. returns target attribute’s value\n",
    "Setter: A method that allows you to set or mutate the value of an attribute in a class i.e. take a new value and assign it to the underlying attribute.\n",
    "\n",
    "\n",
    "Getter and Setter methods suits better for:\n",
    "\n",
    "1.Run costly transformations on attribute access or mutation\n",
    "\n",
    "2.Take extra arguments and flags\n",
    "\n",
    "3.Use inheritance\n",
    "\n",
    "4.Raise exceptions related to attribute access and mutation\n",
    "\n",
    "5.Facilitate integration in heterogeneous development teams"
   ]
  },
  {
   "cell_type": "code",
   "execution_count": 6,
   "id": "68783925",
   "metadata": {},
   "outputs": [],
   "source": [
    "#Creation:\n",
    "class bike:\n",
    "    def __init__(self,year,make,model,speed):\n",
    "        self.year=year\n",
    "        self.make=make\n",
    "        self.model=model\n",
    "        self.__speed=0\n",
    "        \n",
    "#Getter Method        \n",
    "    def get_speed(self):\n",
    "        return self.__speed\n",
    "\n",
    "#Setter Method\n",
    "    def set_speed(self,s):\n",
    "        if s>self.__speed:\n",
    "            self.__speed=s\n",
    "            \n",
    "        "
   ]
  },
  {
   "cell_type": "code",
   "execution_count": 7,
   "id": "c2c50232",
   "metadata": {},
   "outputs": [],
   "source": [
    "#Execution:\n",
    "c=bike(2021,\"Karizma\",\"ZMR\",200)"
   ]
  },
  {
   "cell_type": "code",
   "execution_count": 8,
   "id": "f10284ce",
   "metadata": {},
   "outputs": [
    {
     "data": {
      "text/plain": [
       "0"
      ]
     },
     "execution_count": 8,
     "metadata": {},
     "output_type": "execute_result"
    }
   ],
   "source": [
    "c.get_speed()"
   ]
  },
  {
   "cell_type": "code",
   "execution_count": 9,
   "id": "dfb4d110",
   "metadata": {},
   "outputs": [],
   "source": [
    "c.set_speed(780)"
   ]
  },
  {
   "cell_type": "code",
   "execution_count": 10,
   "id": "7e956f52",
   "metadata": {},
   "outputs": [
    {
     "data": {
      "text/plain": [
       "780"
      ]
     },
     "execution_count": 10,
     "metadata": {},
     "output_type": "execute_result"
    }
   ],
   "source": [
    "c.get_speed()"
   ]
  },
  {
   "cell_type": "markdown",
   "id": "83181ba1-c0b6-44de-a490-001f3373915f",
   "metadata": {},
   "source": [
    "Q5.What is method overriding in python? Write a python code to demonstrate method overriding"
   ]
  },
  {
   "cell_type": "markdown",
   "id": "2a2b1b68",
   "metadata": {},
   "source": [
    "Method Overriding is derived from the concept of object oriented programming closely related to inheritance.\n",
    "When a child class method overrides or provides it's own implementation on the parent class method having the same name,parameters and return type,it is known as method overriding.\n",
    "\n",
    "The child class's method is called the overriding method and the parent class's method is called the overriden method.\n",
    "\n",
    "It allows us to change the implementation of a function in the child class which is defined in the parent class.\n",
    "It avoids duplication of code.\n",
    "It enhances the code by adding some additional properties.\n",
    "\n",
    "There are certain prerequisites for method overriding in Python listed below:\n",
    "\n",
    "1.Method overriding cannot be done within a class. So,we need to derive a child class from a parent class. Hence Inheritance is mandatory.\n",
    "\n",
    "2.The method must have the same name as in the parent class\n",
    "\n",
    "3.The method must have the same number of parameters as in the parent class."
   ]
  },
  {
   "cell_type": "code",
   "execution_count": 11,
   "id": "5d99d182",
   "metadata": {},
   "outputs": [
    {
     "name": "stdout",
     "output_type": "stream",
     "text": [
      "I am from shape class.My sides needs to be defined\n",
      "I am from square class.I have 4 sides\n"
     ]
    }
   ],
   "source": [
    "#Parent class shape has the function sides() which is overridden by child class square.\n",
    "class shape:\n",
    "    def sides(self):\n",
    "        print(\"I am from shape class.My sides needs to be defined\")\n",
    "\n",
    "class square(shape):\n",
    "    def sides(self):\n",
    "        print(\"I am from square class.I have 4 sides\")\n",
    "\n",
    "ob1=shape()\n",
    "ob2=square()\n",
    "#Calling sides() function from shape class\n",
    "ob1.sides()\n",
    "\n",
    "#Calling sides() function from square class\n",
    "ob2.sides()"
   ]
  }
 ],
 "metadata": {
  "kernelspec": {
   "display_name": "Python 3 (ipykernel)",
   "language": "python",
   "name": "python3"
  },
  "language_info": {
   "codemirror_mode": {
    "name": "ipython",
    "version": 3
   },
   "file_extension": ".py",
   "mimetype": "text/x-python",
   "name": "python",
   "nbconvert_exporter": "python",
   "pygments_lexer": "ipython3",
   "version": "3.10.9"
  }
 },
 "nbformat": 4,
 "nbformat_minor": 5
}
