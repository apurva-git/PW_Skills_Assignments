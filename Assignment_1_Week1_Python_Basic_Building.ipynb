{
 "cells": [
  {
   "cell_type": "markdown",
   "id": "10444397-6aa6-4de4-9814-64d414c0e89c",
   "metadata": {},
   "source": [
    "Q1. Create one variable containing following type of data:\n",
    "\n",
    "(i)string\n",
    "\n",
    "(ii)list\n",
    "\n",
    "(iii)float\n",
    "\n",
    "(iv)tuple"
   ]
  },
  {
   "cell_type": "code",
   "execution_count": 1,
   "id": "e73f6d9f-cf8f-447a-a13a-2cebc451ef10",
   "metadata": {},
   "outputs": [
    {
     "name": "stdout",
     "output_type": "stream",
     "text": [
      "Assignment\n",
      "<class 'str'>\n"
     ]
    }
   ],
   "source": [
    "#i> Creating a string data type variable s:\n",
    "\n",
    "s = \"Assignment\"\n",
    "print(s)\n",
    "print(type(s))"
   ]
  },
  {
   "cell_type": "code",
   "execution_count": 2,
   "id": "732d9c07-cd78-4cf6-84ef-fb5bd4721a99",
   "metadata": {},
   "outputs": [
    {
     "name": "stdout",
     "output_type": "stream",
     "text": [
      "['abc', 1, 5.7, (1, 2)]\n",
      "<class 'list'>\n"
     ]
    }
   ],
   "source": [
    "#ii> Creating a list data type variable l:\n",
    "\n",
    "l = ['abc',1,5.7,(1,2)]\n",
    "print(l)\n",
    "print(type(l))"
   ]
  },
  {
   "cell_type": "code",
   "execution_count": 3,
   "id": "75a06c8e-b8f3-4c40-a599-46e838c2c91f",
   "metadata": {},
   "outputs": [
    {
     "name": "stdout",
     "output_type": "stream",
     "text": [
      "5.9\n",
      "<class 'float'>\n"
     ]
    }
   ],
   "source": [
    "#iii> Creating a float data type variable f:\n",
    "\n",
    "f = 5.9\n",
    "print(f)\n",
    "print(type(f))"
   ]
  },
  {
   "cell_type": "code",
   "execution_count": 4,
   "id": "fa5e6241-44ec-45a2-b926-7f918cdf5649",
   "metadata": {},
   "outputs": [
    {
     "name": "stdout",
     "output_type": "stream",
     "text": [
      "(1, 4.9, 'str', (1, 2))\n",
      "<class 'tuple'>\n"
     ]
    }
   ],
   "source": [
    "#iv> Creating a tuple data type variable t:\n",
    "\n",
    "t = (1,4.9,'str',(1,2))\n",
    "print(t)\n",
    "print(type(t))"
   ]
  },
  {
   "cell_type": "markdown",
   "id": "6f5ddde4-b288-4440-9a34-ba66e7fbd54c",
   "metadata": {},
   "source": [
    "Q2. Given are some following variables containing data:\n",
    "\n",
    "(i)var1 = ‘ ‘\n",
    "\n",
    "(ii)var2 = ‘[ DS , ML , Python]’\n",
    "\n",
    "(iii)var3 = [ ‘DS’ , ’ML’ , ‘Python’ ]\n",
    "\n",
    "(iv)var4 = 1\n",
    "\n",
    "What will be the data type of the above given variable."
   ]
  },
  {
   "cell_type": "code",
   "execution_count": 5,
   "id": "086ad704-b5fd-4b47-8878-2cc616950050",
   "metadata": {},
   "outputs": [
    {
     "name": "stdout",
     "output_type": "stream",
     "text": [
      "<class 'str'>\n"
     ]
    }
   ],
   "source": [
    "''' (i)  var1 = ‘ ‘\n",
    "As the variable declaration is assigned to a blank placed inside quotes '',hence it will be a string data type.\n",
    "Any value placed inside quotes '' or \"\" becomes a string data type.'''\n",
    "\n",
    "var1=''\n",
    "print(type(var1))\n",
    "\n"
   ]
  },
  {
   "cell_type": "code",
   "execution_count": 6,
   "id": "593a63ee-e4ac-4fe3-b9c1-25875240aff0",
   "metadata": {},
   "outputs": [
    {
     "name": "stdout",
     "output_type": "stream",
     "text": [
      "<class 'str'>\n"
     ]
    }
   ],
   "source": [
    "''' (ii)  var2 =‘[ DS , ML , Python]’\n",
    "As the variable declaration is assigned to a list but placed inside quotes '',hence it will be a string data type.\n",
    "Any value placed inside quotes '' or \"\" becomes a string data type.'''\n",
    "\n",
    "var2 ='[ DS , ML , Python]'\n",
    "print(type(var2))\n"
   ]
  },
  {
   "cell_type": "code",
   "execution_count": 7,
   "id": "020175db-9b2b-4bb0-a460-2195d56aacb4",
   "metadata": {},
   "outputs": [
    {
     "name": "stdout",
     "output_type": "stream",
     "text": [
      "<class 'list'>\n"
     ]
    }
   ],
   "source": [
    "''' (iii)  var3 = [ ‘DS’ , ’ML’ , ‘Python’ ]\n",
    "As the variable declaration is assigned inside square brackets,hence it will be a list data type.'''\n",
    "\n",
    "var3 = [ 'DS' , 'ML' , 'Python' ]\n",
    "print(type(var3))\n"
   ]
  },
  {
   "cell_type": "code",
   "execution_count": 8,
   "id": "7da9a1b7-c72c-4331-ab50-09e54440d7e0",
   "metadata": {},
   "outputs": [
    {
     "name": "stdout",
     "output_type": "stream",
     "text": [
      "<class 'int'>\n"
     ]
    }
   ],
   "source": [
    "''' (iv)  var4 = 1\n",
    "As the variable declaration is assigned to numerical whole number ,hence it will be an integer data type.'''\n",
    "\n",
    "var4 = 1\n",
    "print(type(var4))\n"
   ]
  },
  {
   "cell_type": "markdown",
   "id": "d627ae09-6c99-4bd1-a1a5-09281c2298ce",
   "metadata": {},
   "source": [
    "Q3. Explain the use of the following operators using an example:\n",
    "\n",
    "(i)\t/\n",
    "\n",
    "(ii)\t% \n",
    "\n",
    "(iii)\t//\n",
    "\n",
    "(iv)\t**"
   ]
  },
  {
   "cell_type": "code",
   "execution_count": 9,
   "id": "3f08e2e9-4207-4d11-978f-ecf9250fc389",
   "metadata": {},
   "outputs": [
    {
     "name": "stdout",
     "output_type": "stream",
     "text": [
      "3.25\n"
     ]
    }
   ],
   "source": [
    "''' (i) / \n",
    "/ is a division operator which comes under the category of arithmetic operator.\n",
    "This operator divides th evalue on left from the value on right.\n",
    "The output will come in decimal or floating point value.\n",
    "Example:\n",
    "\n",
    "If we have to divide digit 13 by by digit 4 ,then we write as below '''\n",
    "\n",
    "print(13/4)\n",
    "\n",
    "#Here left value i.e. 13 is divided by right value i.e. 4 ,and the output comes in decimal or floating value i.e. 3.25"
   ]
  },
  {
   "cell_type": "code",
   "execution_count": 10,
   "id": "b013fa89-3ba1-46b1-9521-849b8cef239e",
   "metadata": {},
   "outputs": [
    {
     "name": "stdout",
     "output_type": "stream",
     "text": [
      "1\n"
     ]
    }
   ],
   "source": [
    "'''(ii) %\n",
    "% is a Modulus operator which comes under the category of arithmetic operator..\n",
    "This operator divides the left value from right value and return the remainder.\n",
    "Example:\n",
    "If we have to find the remainder of division 13/4 then we write as below '''\n",
    "\n",
    "print(13 % 4)\n",
    "\n",
    "#Here the left value is divided by right value and the remainder 1 is shown as the output.'''"
   ]
  },
  {
   "cell_type": "code",
   "execution_count": 11,
   "id": "10926dea-9fc6-4b37-9aab-4eaadaac4150",
   "metadata": {},
   "outputs": [
    {
     "name": "stdout",
     "output_type": "stream",
     "text": [
      "3\n"
     ]
    }
   ],
   "source": [
    "'''(iii) //\n",
    "// is Floor Division operator.It divides and returns the integer value of the quotient.\n",
    "It doesnot includes the digits after decimal.\n",
    "Example:\n",
    "If we do division for 13/4 we get, but when we use 13//4 output only contains whole part of the \n",
    "division not the decimal part'''\n",
    "\n",
    "print(13//4)"
   ]
  },
  {
   "cell_type": "code",
   "execution_count": 12,
   "id": "e1c0b2cf-9dbf-4824-a3c3-21d9d8e99801",
   "metadata": {},
   "outputs": [
    {
     "name": "stdout",
     "output_type": "stream",
     "text": [
      "28561\n"
     ]
    }
   ],
   "source": [
    "'''(iv) **'\n",
    "** is is Exponential operator.It raises the first number to the power of the second.\n",
    "Example:\n",
    "\n",
    "13**4 = 13*13*13*13, i.e. multiply 4 times 13'''\n",
    "\n",
    "print(13**4)"
   ]
  },
  {
   "cell_type": "markdown",
   "id": "a4f3f523-6d8a-4e0c-82c0-30823d2ed2fa",
   "metadata": {},
   "source": [
    "Q4. Create a list of length 10 of your choice containing multiple types of data. Using for loop print the\n",
    "element and its data type."
   ]
  },
  {
   "cell_type": "code",
   "execution_count": 13,
   "id": "e40fa51f-372e-4c57-a71a-6f245147e2a0",
   "metadata": {},
   "outputs": [
    {
     "name": "stdout",
     "output_type": "stream",
     "text": [
      "For element 1 the data type is <class 'int'>\n",
      "For element 9.8 the data type is <class 'float'>\n",
      "For element str the data type is <class 'str'>\n",
      "For element (4, 7, 9) the data type is <class 'tuple'>\n",
      "For element abc the data type is <class 'str'>\n",
      "For element ['r', 'h', 'g'] the data type is <class 'list'>\n",
      "For element 45 the data type is <class 'int'>\n",
      "For element 12 the data type is <class 'int'>\n",
      "For element 9 the data type is <class 'int'>\n",
      "For element asgn the data type is <class 'str'>\n"
     ]
    }
   ],
   "source": [
    "# lst is the variable declared for list\n",
    "\n",
    "lst=[1,9.8,'str',(4,7,9),\"abc\",['r','h','g'],45,12,9,'asgn']\n",
    "\n",
    "for i in lst:\n",
    "    print('For element',i,'the data type is',type(i))\n",
    "    "
   ]
  },
  {
   "cell_type": "markdown",
   "id": "4ce119d2-0479-4b0b-aaa9-a3957fc4e150",
   "metadata": {},
   "source": [
    "Q5. Using a while loop, verify if the number A is purely divisible by number B and if so then how many\n",
    "times it can be divisible."
   ]
  },
  {
   "cell_type": "code",
   "execution_count": 14,
   "id": "5d09fc34-f3ce-478a-9bf0-0bd18ec0f953",
   "metadata": {},
   "outputs": [
    {
     "name": "stdin",
     "output_type": "stream",
     "text": [
      "Enter number A for Dividend :  576\n",
      "Enter number B for Divisor :  2\n"
     ]
    },
    {
     "name": "stdout",
     "output_type": "stream",
     "text": [
      "576 is purely divisible by  2  , 6  times\n"
     ]
    }
   ],
   "source": [
    "A=int(input(\"Enter number A for Dividend : \"))\n",
    "B=int(input(\"Enter number B for Divisor : \"))\n",
    "count=0\n",
    "N=A\n",
    "while A>0:\n",
    "    if(A%B==0):\n",
    "        count+=1\n",
    "        A=A//B\n",
    "        \n",
    "    else:\n",
    "        break;\n",
    "        \n",
    "        \n",
    "print(N,\"is purely divisible by \",B,\" ,\",count,\" times\")\n"
   ]
  },
  {
   "cell_type": "markdown",
   "id": "c2343058-e6cc-494b-90f6-c57a54cf6433",
   "metadata": {},
   "source": [
    "Q6. Create a list containing 25 int type data. Using for loop and if-else condition print if the element is\n",
    "divisible by 3 or not."
   ]
  },
  {
   "cell_type": "code",
   "execution_count": 15,
   "id": "b9173255-9595-48cc-b2cf-48f3dd03b35b",
   "metadata": {},
   "outputs": [
    {
     "name": "stdout",
     "output_type": "stream",
     "text": [
      "Element  0  is divisible by 3\n",
      "Element  1  is not divisible by 3\n",
      "Element  2  is not divisible by 3\n",
      "Element  3  is divisible by 3\n",
      "Element  4  is not divisible by 3\n",
      "Element  5  is not divisible by 3\n",
      "Element  6  is divisible by 3\n",
      "Element  7  is not divisible by 3\n",
      "Element  8  is not divisible by 3\n",
      "Element  9  is divisible by 3\n",
      "Element  10  is not divisible by 3\n",
      "Element  11  is not divisible by 3\n",
      "Element  12  is divisible by 3\n",
      "Element  13  is not divisible by 3\n",
      "Element  14  is not divisible by 3\n",
      "Element  15  is divisible by 3\n",
      "Element  16  is not divisible by 3\n",
      "Element  17  is not divisible by 3\n",
      "Element  18  is divisible by 3\n",
      "Element  19  is not divisible by 3\n",
      "Element  20  is not divisible by 3\n",
      "Element  21  is divisible by 3\n",
      "Element  22  is not divisible by 3\n",
      "Element  23  is not divisible by 3\n",
      "Element  24  is divisible by 3\n",
      "Element  25  is not divisible by 3\n"
     ]
    }
   ],
   "source": [
    "lst=[]\n",
    "lst=range(26)\n",
    "\n",
    "for i in lst:\n",
    "    if (i%3==0):\n",
    "        print(\"Element \",i,\" is divisible by 3\")\n",
    "    else:\n",
    "        print(\"Element \",i,\" is not divisible by 3\")\n",
    "    "
   ]
  },
  {
   "cell_type": "markdown",
   "id": "02abaff7-e571-40d8-8c7e-c7f9f033d1ee",
   "metadata": {},
   "source": [
    "Q7. What do you understand about mutable and immutable data types? Give examples for both showing\n",
    "this property."
   ]
  },
  {
   "cell_type": "markdown",
   "id": "c40a8327-af12-4372-804e-4859c7b58033",
   "metadata": {},
   "source": [
    "Immutable data types are those whose values cannot be modified once they are created. \n",
    "Examples: int, str, bool, float, tuple."
   ]
  },
  {
   "cell_type": "code",
   "execution_count": 17,
   "id": "805abf9d-056e-4af7-b1ed-078805c6e658",
   "metadata": {},
   "outputs": [
    {
     "name": "stdout",
     "output_type": "stream",
     "text": [
      "\n",
      "Datatype String\n",
      "\n",
      "<class 'str'>\n"
     ]
    },
    {
     "ename": "TypeError",
     "evalue": "'str' object does not support item assignment",
     "output_type": "error",
     "traceback": [
      "\u001b[0;31m---------------------------------------------------------------------------\u001b[0m",
      "\u001b[0;31mTypeError\u001b[0m                                 Traceback (most recent call last)",
      "Cell \u001b[0;32mIn[17], line 6\u001b[0m\n\u001b[1;32m      3\u001b[0m b\u001b[38;5;241m=\u001b[39m\u001b[38;5;124m'\u001b[39m\u001b[38;5;124mzxc\u001b[39m\u001b[38;5;124m'\u001b[39m\n\u001b[1;32m      4\u001b[0m \u001b[38;5;28mprint\u001b[39m(\u001b[38;5;28mtype\u001b[39m(b))\n\u001b[0;32m----> 6\u001b[0m b[\u001b[38;5;241m1\u001b[39m]\u001b[38;5;241m=\u001b[39m\u001b[38;5;124m'\u001b[39m\u001b[38;5;124ma\u001b[39m\u001b[38;5;124m'\u001b[39m\n\u001b[1;32m      9\u001b[0m \u001b[38;5;124;03m'''Here as the String data type is immutable hence its throwing error if we are trying to modify or make any changes.'''\u001b[39;00m\n",
      "\u001b[0;31mTypeError\u001b[0m: 'str' object does not support item assignment"
     ]
    }
   ],
   "source": [
    "print(\"\\nDatatype String\\n\")\n",
    "\n",
    "b='zxc'\n",
    "print(type(b))\n",
    "\n",
    "b[1]='a'\n",
    "\n",
    "\n",
    "'''Here as the String data type is immutable hence its throwing error if we are trying to modify or make any changes.'''\n"
   ]
  },
  {
   "cell_type": "code",
   "execution_count": 18,
   "id": "067c126b-998f-4f95-b51b-24f42c2a9c47",
   "metadata": {},
   "outputs": [
    {
     "name": "stdout",
     "output_type": "stream",
     "text": [
      "\n",
      "Datatype Tuple\n",
      "<class 'tuple'>\n"
     ]
    },
    {
     "ename": "TypeError",
     "evalue": "'tuple' object does not support item assignment",
     "output_type": "error",
     "traceback": [
      "\u001b[0;31m---------------------------------------------------------------------------\u001b[0m",
      "\u001b[0;31mTypeError\u001b[0m                                 Traceback (most recent call last)",
      "Cell \u001b[0;32mIn[18], line 5\u001b[0m\n\u001b[1;32m      2\u001b[0m t\u001b[38;5;241m=\u001b[39m(\u001b[38;5;241m1\u001b[39m,\u001b[38;5;241m4\u001b[39m,\u001b[38;5;241m5\u001b[39m)\n\u001b[1;32m      3\u001b[0m \u001b[38;5;28mprint\u001b[39m(\u001b[38;5;28mtype\u001b[39m(t))\n\u001b[0;32m----> 5\u001b[0m t[\u001b[38;5;241m2\u001b[39m]\u001b[38;5;241m=\u001b[39m\u001b[38;5;241m8\u001b[39m\n\u001b[1;32m      8\u001b[0m \u001b[38;5;124;03m'''Here as the Tuple data type is immutable hence its throwing error if we are trying to modify or make any changes.'''\u001b[39;00m\n",
      "\u001b[0;31mTypeError\u001b[0m: 'tuple' object does not support item assignment"
     ]
    }
   ],
   "source": [
    "print(\"\\nDatatype Tuple\")\n",
    "t=(1,4,5)\n",
    "print(type(t))\n",
    "\n",
    "t[2]=8\n",
    "\n",
    "\n",
    "'''Here as the Tuple data type is immutable hence its throwing error if we are trying to modify or make any changes.'''"
   ]
  },
  {
   "cell_type": "markdown",
   "id": "bda98add-0ec5-4159-9e44-3501a15f89d2",
   "metadata": {},
   "source": [
    "Mutable data types are those whose values can be changed or new values can be assigned to them.\n",
    "Examples: list, sets and dictionary"
   ]
  },
  {
   "cell_type": "code",
   "execution_count": 20,
   "id": "a47d6ed9-c7e0-41ce-ae87-14b56d435de1",
   "metadata": {},
   "outputs": [
    {
     "name": "stdout",
     "output_type": "stream",
     "text": [
      "Datatype List\n",
      "\n",
      "before  [1, 2, 3]  type  <class 'list'>  address  4362985792\n",
      "after  [1, 5, 3]  type  <class 'list'>  address  4362985792\n",
      "\n",
      "Datatype Sets\n",
      "\n",
      "before  {1, 3, 4}  type  <class 'set'> address  4375052800\n",
      "after  {1, 2, 3, 4}  type  <class 'set'> address  4375052800\n",
      "\n",
      "Datatype Dictionary\n",
      "\n",
      "before  {1: 'a', 2: 'b'}  type  <class 'dict'> address  4363353536\n",
      "after  {1: 'a', 2: 'x'}  type  <class 'dict'> address  4363353536\n"
     ]
    }
   ],
   "source": [
    "\n",
    "print(\"Datatype List\\n\")\n",
    "\n",
    "l=[1,2,3]\n",
    "print('before ',l,' type ',type(l),' address ',id(l))\n",
    "\n",
    "l[1]=5\n",
    "\n",
    "print('after ',l,' type ',type(l),' address ',id(l))\n",
    "\n",
    "\n",
    "print(\"\\nDatatype Sets\\n\")\n",
    "s={1,3,4}\n",
    "print('before ',s,' type ',type(s),'address ',id(s))\n",
    "\n",
    "s.add(2)\n",
    "      \n",
    "print('after ',s,' type ',type(s),'address ',id(s))\n",
    "\n",
    "print(\"\\nDatatype Dictionary\\n\")\n",
    "\n",
    "dt={1:\"a\",2:\"b\"}\n",
    "print(\"before \",dt,\" type \",type(dt),'address ',id(dt))\n",
    "\n",
    "dt[2]=\"x\"\n",
    "print(\"after \",dt,\" type \",type(dt),'address ',id(dt))\n",
    "\n",
    "\n",
    "#Here the address of storage of variable is same,which means we are not creating a copy ,we are \n",
    "#directly working on the origin data declared.Even the modifications are being reflected in the variable respectively\n"
   ]
  }
 ],
 "metadata": {
  "kernelspec": {
   "display_name": "Python 3 (ipykernel)",
   "language": "python",
   "name": "python3"
  },
  "language_info": {
   "codemirror_mode": {
    "name": "ipython",
    "version": 3
   },
   "file_extension": ".py",
   "mimetype": "text/x-python",
   "name": "python",
   "nbconvert_exporter": "python",
   "pygments_lexer": "ipython3",
   "version": "3.10.9"
  }
 },
 "nbformat": 4,
 "nbformat_minor": 5
}
