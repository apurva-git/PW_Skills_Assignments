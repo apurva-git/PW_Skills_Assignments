{
 "cells": [
  {
   "cell_type": "markdown",
   "id": "05462952",
   "metadata": {},
   "source": [
    "Q1. Which keyword is used to create a function? Create a function to return a list of odd numbers in the\n",
    "range of 1 to 25."
   ]
  },
  {
   "cell_type": "markdown",
   "id": "f458634e",
   "metadata": {},
   "source": [
    "'def' keyword is used to create or define a function in python.\n",
    "Syntax for the function creation is \n",
    "\n",
    "def function_name ():\n",
    "\n",
    "    function_definition"
   ]
  },
  {
   "cell_type": "code",
   "execution_count": 1,
   "id": "9b7f7ec1",
   "metadata": {},
   "outputs": [
    {
     "data": {
      "text/plain": [
       "[1, 3, 5, 7, 9, 11, 13, 15, 17, 19, 21, 23, 25]"
      ]
     },
     "execution_count": 1,
     "metadata": {},
     "output_type": "execute_result"
    }
   ],
   "source": [
    "def odd_in_list(a,b):\n",
    "    l=[]\n",
    "    for i in range(a,b):\n",
    "        if i%2!=0:\n",
    "            l.append(i)\n",
    "    return l\n",
    "\n",
    "l1=odd_in_list(1,26)\n",
    "l1"
   ]
  },
  {
   "cell_type": "markdown",
   "id": "bb741381",
   "metadata": {},
   "source": [
    "Q2. Why *args and **kwargs is used in some functions? Create a function each for *args and **kwargs\n",
    "to demonstrate their use."
   ]
  },
  {
   "cell_type": "markdown",
   "id": "e6a84f7d",
   "metadata": {},
   "source": [
    "*args and **kwargs are special keyword which allows function to take variable length argument.\n",
    "\n",
    "We use *args and **kwargs as an argument when we are unsure about the number of arguments to pass in the functions.\n",
    "\n",
    "\n",
    "*args passes variable number of non-keyworded arguments.\n",
    "The arguments are passed as a tuple and these passed arguments make tuple inside the function with same name as the parameter excluding asterisk *.\n",
    "\n",
    "\n",
    "**kwargs passes variable number of keyword arguments dictionary to function on which operation of a dictionary can be performed.\n",
    "The arguments are passed as a dictionary and these arguments make a dictionary inside function with name same as the parameter excluding double asterisk **.\\"
   ]
  },
  {
   "cell_type": "code",
   "execution_count": 2,
   "id": "9d007835",
   "metadata": {},
   "outputs": [
    {
     "name": "stdout",
     "output_type": "stream",
     "text": [
      "Sum: 8\n",
      "Sum: 22\n",
      "Sum: 17\n"
     ]
    }
   ],
   "source": [
    "#Function for *args \n",
    "\n",
    "def add_num(*num):\n",
    "    sum = 0\n",
    "    \n",
    "    for n in num:\n",
    "        sum = sum + n\n",
    "\n",
    "    print(\"Sum:\",sum)\n",
    "\n",
    "add_num(3,5)\n",
    "add_num(4,5,6,7)\n",
    "add_num(1,2,3,5,6)"
   ]
  },
  {
   "cell_type": "code",
   "execution_count": 3,
   "id": "5d800d44",
   "metadata": {},
   "outputs": [
    {
     "name": "stdout",
     "output_type": "stream",
     "text": [
      "\n",
      "Data type of argument: <class 'dict'>\n",
      "Firstname is Aditya\n",
      "Lastname is Kapoor\n",
      "Age is 36\n",
      "Phone is 7698982342\n",
      "\n",
      "Data type of argument: <class 'dict'>\n",
      "Firstname is John\n",
      "Lastname is Abraham\n",
      "Email is john@bollywood.com\n",
      "Country is India\n",
      "Age is 42\n",
      "Phone is 7287341199\n"
     ]
    }
   ],
   "source": [
    "#Function for **kwargs \n",
    "\n",
    "def in_dict(**data):\n",
    "    print(\"\\nData type of argument:\",type(data))\n",
    "\n",
    "    for key, value in data.items():\n",
    "        print(\"{} is {}\".format(key,value))\n",
    "\n",
    "in_dict(Firstname=\"Aditya\", Lastname=\"Kapoor\", Age=36, Phone=7698982342)\n",
    "in_dict(Firstname=\"John\", Lastname=\"Abraham\", Email=\"john@bollywood.com\", Country=\"India\", Age=42, Phone=7287341199)"
   ]
  },
  {
   "cell_type": "markdown",
   "id": "eef74b08",
   "metadata": {},
   "source": [
    "Q3.  What is an iterator in python? Name the method used to initialise the iterator object and the method\n",
    "used for iteration. Use these methods to print the first five elements of the given list [2, 4, 6, 8, 10, 12, 14,\n",
    "16, 18, 20]."
   ]
  },
  {
   "cell_type": "markdown",
   "id": "0e11dc27",
   "metadata": {},
   "source": [
    "An iterator is an object that contains a countable number of values and can be iterated upon i.e you can traverse through all the values.\n",
    "\n",
    "Lists, tuples, dictionaries, and sets are all iterable objects. They are iterable containers which you can get an iterator.\n",
    "\n",
    "Even strings are iterable objects and can return an iterator\n",
    "\n",
    "iter() function is used to initlialise the iterator object.\n",
    "next() function is used for iteration.\n",
    "\n"
   ]
  },
  {
   "cell_type": "code",
   "execution_count": 4,
   "id": "703d5d04",
   "metadata": {},
   "outputs": [
    {
     "name": "stdout",
     "output_type": "stream",
     "text": [
      "2\n",
      "4\n",
      "6\n",
      "8\n",
      "10\n"
     ]
    }
   ],
   "source": [
    "l=[2, 4, 6, 8, 10, 12, 14, 16, 18, 20]\n",
    " \n",
    "lst=iter(l)\n",
    "\n",
    "for i in range(5):\n",
    "    print(next(lst))"
   ]
  },
  {
   "cell_type": "markdown",
   "id": "d071384a",
   "metadata": {},
   "source": [
    "Q4.  What is a generator function in python? Why yield keyword is used? Give an example of a generator\n",
    "function."
   ]
  },
  {
   "cell_type": "markdown",
   "id": "cbc7f0e4",
   "metadata": {},
   "source": [
    "Generator function allows you to declare a function that behaves like an iterator, providing a faster and easier way to create iterators. They can be used on an abstract container of data to turn it into an iterable object like lists, dictionaries and strings.  \n",
    "They allow you to define an iterative algorithm by writing a single function whose execution is not continuous. \n",
    "\n",
    "The yield keyword in Python controls the flow of a generator function. This is similar to a return statement used for returning values in Python.\n",
    "When you call a function that has a yield statement, as soon as a yield is encountered, the execution of the function halts and returns a generator iterator object instead of simply returning a value.\n",
    "The yield expressions return multiple values.\n",
    "\n"
   ]
  },
  {
   "cell_type": "code",
   "execution_count": 5,
   "id": "e9a70072",
   "metadata": {},
   "outputs": [
    {
     "name": "stdout",
     "output_type": "stream",
     "text": [
      "[2, 4, 6]\n"
     ]
    }
   ],
   "source": [
    "#Example of generator fuction\n",
    "def gen_multiple():\n",
    "    lst=[1,2,3]\n",
    "    for i in lst:\n",
    "        yield i * 2\n",
    "\n",
    "res = list(gen_multiple())\n",
    "print(res)\n"
   ]
  },
  {
   "cell_type": "markdown",
   "id": "d927b2ca",
   "metadata": {},
   "source": [
    "Q5. Create a generator function for prime numbers less than 1000. Use the next() method to print the\n",
    "first 20 prime numbers."
   ]
  },
  {
   "cell_type": "code",
   "execution_count": 6,
   "id": "ff438828",
   "metadata": {},
   "outputs": [
    {
     "name": "stdout",
     "output_type": "stream",
     "text": [
      "2\n",
      "3\n",
      "5\n",
      "7\n",
      "11\n",
      "13\n",
      "17\n",
      "19\n",
      "23\n",
      "29\n",
      "31\n",
      "37\n",
      "41\n",
      "43\n",
      "47\n",
      "53\n",
      "59\n",
      "61\n",
      "67\n",
      "71\n"
     ]
    }
   ],
   "source": [
    "def getPrimes(n):\n",
    "    i = 2\n",
    "    while i < n :\n",
    "        prime = True \n",
    "        for a in range(2, i):\n",
    "            if i%a == 0:\n",
    "                prime = False\n",
    "                break\n",
    "        if prime == True:    \n",
    "            yield i\n",
    "        i =i+1\n",
    "        \n",
    "x=list(getPrimes(1000))\n",
    "lst=iter(x)\n",
    "\n",
    "for i in range(20):\n",
    "    print(next(lst))"
   ]
  },
  {
   "cell_type": "markdown",
   "id": "86cdbb8c",
   "metadata": {},
   "source": [
    "Q6. Write a python program to print the first 10 Fibonacci numbers using a while loop."
   ]
  },
  {
   "cell_type": "code",
   "execution_count": 7,
   "id": "535eb1e2",
   "metadata": {},
   "outputs": [
    {
     "name": "stdout",
     "output_type": "stream",
     "text": [
      "1\n",
      "1\n",
      "2\n",
      "3\n",
      "5\n",
      "8\n",
      "13\n",
      "21\n",
      "34\n",
      "55\n"
     ]
    }
   ],
   "source": [
    "def fibo(n):\n",
    "    a=0\n",
    "    b=1\n",
    "    \n",
    "    for i in range(n):\n",
    "        print(b)\n",
    "        c=a\n",
    "        a=b\n",
    "        b=c+b\n",
    "        \n",
    "        \n",
    "output=fibo(10)\n",
    "    "
   ]
  },
  {
   "cell_type": "markdown",
   "id": "d8880133",
   "metadata": {},
   "source": [
    "Q7. Write a List Comprehension to iterate through the given string: ‘pwskills’.\n",
    "\n",
    "Expected output: ['p', 'w', 's', 'k', 'i', 'l', 'l', 's'] "
   ]
  },
  {
   "cell_type": "code",
   "execution_count": 8,
   "id": "dac7a8e8",
   "metadata": {},
   "outputs": [
    {
     "data": {
      "text/plain": [
       "['p', 'w', 's', 'k', 'i', 'l', 'l', 's']"
      ]
     },
     "execution_count": 8,
     "metadata": {},
     "output_type": "execute_result"
    }
   ],
   "source": [
    "str=\"pwskills\"\n",
    "lst=[x for x in str]\n",
    "lst"
   ]
  },
  {
   "cell_type": "markdown",
   "id": "a21e8f08",
   "metadata": {},
   "source": [
    "Q8. Write a python program to check whether a given number is Palindrome or not using a while loop."
   ]
  },
  {
   "cell_type": "code",
   "execution_count": 9,
   "id": "87808b35",
   "metadata": {},
   "outputs": [
    {
     "name": "stdout",
     "output_type": "stream",
     "text": [
      "Enter a number to check if its palindrome or not\n",
      "121\n",
      "The number 121 is Palindrome\n"
     ]
    }
   ],
   "source": [
    "def is_pal(n):\n",
    "    d=n\n",
    "    rev=0\n",
    "    while(n>0):\n",
    "        dig=n%10\n",
    "        rev=rev*10+dig\n",
    "        n=n//10\n",
    "    if d==rev:\n",
    "        return True\n",
    "    else:\n",
    "        return False\n",
    "num=int(input(\"Enter a number to check if its palindrome or not\\n\"))        \n",
    "out=is_pal(num)\n",
    "if out:\n",
    "    print(\"The number\",num ,\"is Palindrome\")\n",
    "else:\n",
    "    print(\"The number\",num,\"is not Palindrome\")"
   ]
  },
  {
   "cell_type": "markdown",
   "id": "3783f074",
   "metadata": {},
   "source": [
    "Q9. Write a code to print odd numbers from 1 to 100 using list comprehension.\n",
    "\n",
    "Note: Use a list comprehension to create a list from 1 to 100 and use another List comprehension to filter\n",
    "out odd numbers."
   ]
  },
  {
   "cell_type": "code",
   "execution_count": 10,
   "id": "ee113818",
   "metadata": {},
   "outputs": [
    {
     "data": {
      "text/plain": [
       "[1,\n",
       " 3,\n",
       " 5,\n",
       " 7,\n",
       " 9,\n",
       " 11,\n",
       " 13,\n",
       " 15,\n",
       " 17,\n",
       " 19,\n",
       " 21,\n",
       " 23,\n",
       " 25,\n",
       " 27,\n",
       " 29,\n",
       " 31,\n",
       " 33,\n",
       " 35,\n",
       " 37,\n",
       " 39,\n",
       " 41,\n",
       " 43,\n",
       " 45,\n",
       " 47,\n",
       " 49,\n",
       " 51,\n",
       " 53,\n",
       " 55,\n",
       " 57,\n",
       " 59,\n",
       " 61,\n",
       " 63,\n",
       " 65,\n",
       " 67,\n",
       " 69,\n",
       " 71,\n",
       " 73,\n",
       " 75,\n",
       " 77,\n",
       " 79,\n",
       " 81,\n",
       " 83,\n",
       " 85,\n",
       " 87,\n",
       " 89,\n",
       " 91,\n",
       " 93,\n",
       " 95,\n",
       " 97,\n",
       " 99]"
      ]
     },
     "execution_count": 10,
     "metadata": {},
     "output_type": "execute_result"
    }
   ],
   "source": [
    "l1=[x for x in range(1,101)]\n",
    "l2=[y for y in l1 if y%2==1]\n",
    "l2"
   ]
  }
 ],
 "metadata": {
  "kernelspec": {
   "display_name": "Python 3 (ipykernel)",
   "language": "python",
   "name": "python3"
  },
  "language_info": {
   "codemirror_mode": {
    "name": "ipython",
    "version": 3
   },
   "file_extension": ".py",
   "mimetype": "text/x-python",
   "name": "python",
   "nbconvert_exporter": "python",
   "pygments_lexer": "ipython3",
   "version": "3.10.9"
  }
 },
 "nbformat": 4,
 "nbformat_minor": 5
}
