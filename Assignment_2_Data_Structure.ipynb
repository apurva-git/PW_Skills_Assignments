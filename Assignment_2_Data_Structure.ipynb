{
 "cells": [
  {
   "cell_type": "markdown",
   "id": "3f8f5a1c",
   "metadata": {},
   "source": [
    "Q1. How do you comment code in Python? What are the different types of comments?"
   ]
  },
  {
   "cell_type": "markdown",
   "id": "6759e996",
   "metadata": {},
   "source": [
    "Comment enables the interpreter to ignore some part of the code which is commented out.\n",
    "Comments are used to make the code self explanatory and readable.\n",
    "\n",
    "There are two types of comments:\n",
    "\n",
    "1. Single Line Comment:\n",
    "\n",
    "   The # character is used to start a comment. The comment continues after the # until the end of the line.\n",
    "   \n",
    "\n",
    "2. Multi Line Comment:\n",
    "\n",
    "   Python does not really have a syntax for multiline comments.\n",
    "   But we can use the two ways :\n",
    "\n",
    "   i. insert # for each line,on multiple lines\n",
    "\n",
    "   ii. write the comment within ''' or \"\"\" (triple quotes)\n",
    "   Since Python will ignore string literals that are not assigned to a variable,even after reading the code,\n",
    "   python will ignore it.\n",
    "\n"
   ]
  },
  {
   "cell_type": "code",
   "execution_count": 1,
   "id": "19dbc798",
   "metadata": {},
   "outputs": [
    {
     "name": "stdout",
     "output_type": "stream",
     "text": [
      "Hello All\n",
      "Hello Again\n"
     ]
    }
   ],
   "source": [
    "#Below is an example how we can comment code in Python:\n",
    "# This is a single line comment\n",
    "\n",
    "print(\"Hello All\")\n",
    "\n",
    "'''This is a \n",
    "multi line comment'''\n",
    "\n",
    "\"\"\" Even this \n",
    "can be considered as a multi line comment \"\"\"\n",
    "\n",
    "print(\"Hello Again\")"
   ]
  },
  {
   "cell_type": "markdown",
   "id": "8cee5ab8",
   "metadata": {},
   "source": [
    "Q2. What are variables in Python? How do you declare and assign values to variables?"
   ]
  },
  {
   "cell_type": "markdown",
   "id": "4e701da2",
   "metadata": {},
   "source": [
    " What are variables in Python? \n",
    "\n",
    "A Python variable is a symbolic name that is a reference or pointer to an object.\n",
    "Once an object is assigned to a variable, you can refer to the object by that name.\n",
    "But the data itself is still contained within the object.\n",
    "\n",
    "A variable can have a short name of single character or descriptive names.\n",
    "\n",
    "Rules for Python variables:\n",
    "\n",
    "A variable name must start with a letter or the underscore character\n",
    "A variable name cannot start with a number\n",
    "A variable name can only contain alpha-numeric characters and underscores (A-z, 0-9, and _ )\n",
    "Variable names are case-sensitive (age, Age and AGE are three different variables)\n",
    "\n",
    "\n",
    "How do you declare and assign values to variables?\n",
    "\n",
    "Python has no command for declaring a variable.\n",
    "A variable is created the moment you first assign a value to it.\n",
    "Variables do not need to be declared with any particular type and can even change type after they have been set.\n",
    "\n",
    "\n",
    "The assignment operator “=” equals to is used to assign values to variables in Python. \n"
   ]
  },
  {
   "cell_type": "code",
   "execution_count": 2,
   "id": "8399c578",
   "metadata": {},
   "outputs": [
    {
     "name": "stdout",
     "output_type": "stream",
     "text": [
      "Value of var is 123\n"
     ]
    }
   ],
   "source": [
    "#Example:\n",
    "\n",
    "var=123\n",
    "\n",
    "'''Here ,the numeric value 123 is assigned to the variable with name 'var'. “x”. \n",
    "After executing this line, this number will be stored into this variable. \n",
    "Until the value is changed or the variable deleted, 'var' behaves like the value 123.'''\n",
    "\n",
    "print(\"Value of var is\",var)"
   ]
  },
  {
   "cell_type": "markdown",
   "id": "c69ad5e3",
   "metadata": {},
   "source": [
    "Q3. How do you convert one data type to another in Python?"
   ]
  },
  {
   "cell_type": "markdown",
   "id": "bf0e6731",
   "metadata": {},
   "source": [
    "To convert between data types, we use the type name as a function."
   ]
  },
  {
   "cell_type": "code",
   "execution_count": 3,
   "id": "745f97aa",
   "metadata": {},
   "outputs": [
    {
     "name": "stdout",
     "output_type": "stream",
     "text": [
      "<class 'int'>\n",
      "123  x is now  <class 'str'>\n"
     ]
    }
   ],
   "source": [
    "x=123\n",
    "\n",
    "print(type(x))\n",
    "#Here x is of integer data type\n",
    "\n",
    "#Conveting integer to string type\n",
    "x=str(x)\n",
    "\n",
    "print(x,\" x is now \", type(x))\n",
    "#Here x becomes string data type"
   ]
  },
  {
   "cell_type": "markdown",
   "id": "2f4ba5a6",
   "metadata": {},
   "source": [
    "Q4. How do you write and execute a Python script from the command line?"
   ]
  },
  {
   "cell_type": "markdown",
   "id": "f90ca6a0",
   "metadata": {},
   "source": [
    "Writing Python script in command line:\n",
    "\n",
    "If Python is already installed in the system,we need to write the word 'python,in the terminal,\n",
    "this will allow us to enter into the Python interactive shell \n",
    "\n",
    "We can run a code without creating any file in Python interactive console :\n",
    "\n",
    "Example:\n",
    "\n",
    "print(\"Hello\")\n",
    "Hello\n",
    "\n",
    "It prints the output after pressing the Enter Key"
   ]
  },
  {
   "cell_type": "markdown",
   "id": "d57444f9",
   "metadata": {},
   "source": [
    "Executing python script from the command line:\n",
    "\n",
    "You need to open a command line and type the word python followed by the path to your script file like this:\n",
    "\n",
    "python filename.py\n",
    "\n",
    "\n",
    "It executes the code and shows output after pressing the Enter Key"
   ]
  },
  {
   "cell_type": "markdown",
   "id": "6d29bbac",
   "metadata": {},
   "source": [
    "Q5. Given a list my_list = [1, 2, 3, 4, 5], write the code to slice the list and obtain the sub-list [2, 3]."
   ]
  },
  {
   "cell_type": "code",
   "execution_count": 4,
   "id": "af73c1bf",
   "metadata": {},
   "outputs": [
    {
     "name": "stdout",
     "output_type": "stream",
     "text": [
      "[2, 3]\n"
     ]
    }
   ],
   "source": [
    "my_list=[1,2,3,4,5]\n",
    "\n",
    "#Using the below slicing to obtain the sub string\n",
    "sub_list=my_list[1:3]\n",
    "\n",
    "print(sub_list)"
   ]
  },
  {
   "cell_type": "markdown",
   "id": "61f81bcd",
   "metadata": {},
   "source": [
    "Q6. What is a complex number in mathematics, and how is it represented in Python?"
   ]
  },
  {
   "cell_type": "markdown",
   "id": "ecaf7ca9",
   "metadata": {},
   "source": [
    "Combination of both the real number and imaginary number is a complex number.\n",
    "Complex numbers are the numbers that are expressed in the form of a+ib where, a,b are real numbers and  ‘i’ is an imaginary number called “iota”.\n",
    "The value of i = (√-1). \n",
    "For example, 2+3i is a complex number, where 2 is the real part (Re) and 3i is an imaginary part (Im). \n",
    "\n",
    "\n",
    "In Python,complex number can be created either using direct assignment statement or by using complex () function.\n"
   ]
  },
  {
   "cell_type": "code",
   "execution_count": 5,
   "id": "a55e7578",
   "metadata": {},
   "outputs": [
    {
     "name": "stdout",
     "output_type": "stream",
     "text": [
      "(2+3j)  is of type  <class 'complex'>\n",
      "(4+6j)  is of type  <class 'complex'>\n"
     ]
    }
   ],
   "source": [
    "#Direct Assignment:\n",
    "\n",
    "c = 2 +3j\n",
    "\n",
    "print(c,\" is of type \",type(c))\n",
    "\n",
    "#Creation using complex() function\n",
    "\n",
    "c1 = complex(4,6)\n",
    "print(c1,\" is of type \",type(c1))"
   ]
  },
  {
   "cell_type": "markdown",
   "id": "d8297605",
   "metadata": {},
   "source": [
    "Q7. What is the correct way to declare a variable named age and assign the value 25 to it?"
   ]
  },
  {
   "cell_type": "code",
   "execution_count": 6,
   "id": "dee9a5f9",
   "metadata": {},
   "outputs": [
    {
     "name": "stdout",
     "output_type": "stream",
     "text": [
      "25\n"
     ]
    }
   ],
   "source": [
    "age=25\n",
    "\n",
    "print(age)"
   ]
  },
  {
   "cell_type": "markdown",
   "id": "d2c62c1a",
   "metadata": {},
   "source": [
    "Q8. Declare a variable named price and assign the value 9.99 to it. What data type does this variable\n",
    "belong to?"
   ]
  },
  {
   "cell_type": "code",
   "execution_count": 7,
   "id": "4cea7ac9",
   "metadata": {},
   "outputs": [
    {
     "name": "stdout",
     "output_type": "stream",
     "text": [
      "Data type for price  9.99  is  <class 'float'>\n"
     ]
    }
   ],
   "source": [
    "price=9.99\n",
    "print(\"Data type for price \",price,\" is \",type(price))"
   ]
  },
  {
   "cell_type": "markdown",
   "id": "9aab15ef",
   "metadata": {},
   "source": [
    "Q9. Create a variable named name and assign your full name to it as a string. How would you print the\n",
    "value of this variable?"
   ]
  },
  {
   "cell_type": "code",
   "execution_count": 8,
   "id": "381dd2e0",
   "metadata": {},
   "outputs": [
    {
     "name": "stdout",
     "output_type": "stream",
     "text": [
      "Apurva Sharma\n"
     ]
    }
   ],
   "source": [
    "name=\"Apurva Sharma\"\n",
    "print(name)"
   ]
  },
  {
   "cell_type": "markdown",
   "id": "bcc7e92b",
   "metadata": {},
   "source": [
    "Q10. Given the string \"Hello, World!\", extract the substring \"World\"."
   ]
  },
  {
   "cell_type": "code",
   "execution_count": 9,
   "id": "22648a2c",
   "metadata": {},
   "outputs": [
    {
     "name": "stdout",
     "output_type": "stream",
     "text": [
      "World\n"
     ]
    }
   ],
   "source": [
    "str=\"Hello,World!\"\n",
    "sub_str=str[-6:-1]\n",
    "print(sub_str)"
   ]
  },
  {
   "cell_type": "markdown",
   "id": "24cb65b7",
   "metadata": {},
   "source": [
    "Q11. Create a variable named \"is_student\" and assign it a boolean value indicating whether you are\n",
    "currently a student or not."
   ]
  },
  {
   "cell_type": "code",
   "execution_count": 10,
   "id": "7e419c3b",
   "metadata": {},
   "outputs": [
    {
     "name": "stdout",
     "output_type": "stream",
     "text": [
      "Enter 1 if you are a student,else enter 0 if not a student\n",
      "1\n",
      "You are a student\n"
     ]
    }
   ],
   "source": [
    "ans=int(input(\"Enter 1 if you are a student,else enter 0 if not a student\\n\"))\n",
    "if ans==1:\n",
    "    is_student=True\n",
    "    print(\"You are a student\")\n",
    "elif ans==0:\n",
    "    is_student=False\n",
    "    print(\"You are not a student\")\n",
    "else:\n",
    "    print(\"Wrong Input\")\n"
   ]
  }
 ],
 "metadata": {
  "kernelspec": {
   "display_name": "Python 3 (ipykernel)",
   "language": "python",
   "name": "python3"
  },
  "language_info": {
   "codemirror_mode": {
    "name": "ipython",
    "version": 3
   },
   "file_extension": ".py",
   "mimetype": "text/x-python",
   "name": "python",
   "nbconvert_exporter": "python",
   "pygments_lexer": "ipython3",
   "version": "3.10.9"
  }
 },
 "nbformat": 4,
 "nbformat_minor": 5
}
