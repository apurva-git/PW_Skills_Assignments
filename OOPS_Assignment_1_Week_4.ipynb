{
 "cells": [
  {
   "cell_type": "markdown",
   "id": "2550ce89",
   "metadata": {},
   "source": [
    "Q1. Explain Class and Object with respect to Object-Oriented Programming. Give a suitable example."
   ]
  },
  {
   "cell_type": "markdown",
   "id": "0232ad02",
   "metadata": {},
   "source": [
    "Class is a blueprint which defines some properties and behaviors. \n",
    "It is a blueprint for declaring and creating objects.\n",
    "Memory is not allocated to classes and they have no physical existence.\n",
    "You can declare a class only once.It is a logical entity.\n",
    "We cannot manipulate class as it is not available in memory.\n",
    "Class is created using the class keyword like class Vehicle{}\n",
    "\n",
    "\n",
    "An object is an instance of a class which has properties and behaviours of class attached to it. \n",
    "It allows programmers to use variables and methods from inside the class.\n",
    "When objects are created, memory is allocated to them in the heap memory.\n",
    "Multiple objects can be created using a singe class.\n",
    "An object is a physical entity and can be manipulated.\n",
    "Objects are created through keyword like Vehicle car= new Vehicle();. \n",
    "We can also create an object using the newInstance() method, clone() method, factory method and using deserialization.\n",
    " \n",
    " \n",
    " Example:\n",
    " \n",
    " Vehicle is a class\n",
    " Car is an object of the class Vehicle\n",
    " \n",
    " Car object will have the properties of a vehicle class.\n",
    " The class vehicle can also have multiple objects like car,truck,tractor etc.\n",
    " "
   ]
  },
  {
   "cell_type": "markdown",
   "id": "cd2e98fe",
   "metadata": {},
   "source": [
    "Q2. Name the four pillars of OOPs."
   ]
  },
  {
   "cell_type": "markdown",
   "id": "5227b464",
   "metadata": {},
   "source": [
    "There are four pillars:\n",
    "\n",
    "Encapsulation\n",
    "Inheritance\n",
    "Polymorphism\n",
    "Abstraction\n",
    "\n",
    "Encapsulation: To enclose something in or as if in a capsule.\n",
    "\n",
    "Inherit: To receive a quality, characteristic, etc., from your parents or family.\n",
    "\n",
    "Abstraction: A general idea rather than one that relates to a particular object, person, or situation.\n",
    "\n",
    "Polymorphism: The condition of occurrence in several different forms.\n"
   ]
  },
  {
   "cell_type": "markdown",
   "id": "1b1a14c7",
   "metadata": {},
   "source": [
    "Q3. Explain why the __init__() function is used. Give a suitable example."
   ]
  },
  {
   "cell_type": "markdown",
   "id": "14ff9543",
   "metadata": {},
   "source": [
    "The __init__ method is the Python equivalent of the C++ constructor in an object-oriented approach. \n",
    "It is called every time an object is created from a class. \n",
    "It lets the class initialize the object’s attributes. \n",
    "It is only used within classes. "
   ]
  },
  {
   "cell_type": "code",
   "execution_count": 1,
   "id": "d6b50592",
   "metadata": {},
   "outputs": [
    {
     "name": "stdout",
     "output_type": "stream",
     "text": [
      "Welcome  Ram\n",
      "Welcome  Raj\n",
      "Welcome  Raghav\n"
     ]
    }
   ],
   "source": [
    "class Employee:\n",
    " \n",
    "    # init method or constructor\n",
    "    def __init__(self, name):\n",
    "        self.name = name\n",
    " \n",
    "    # Sample Method\n",
    "    def welcome(self):\n",
    "        print('Welcome ', self.name)\n",
    " \n",
    " \n",
    "# Creating different objects\n",
    "e1 = Employee('Ram')\n",
    "e2 = Employee('Raj')\n",
    "e3 = Employee('Raghav')\n",
    " \n",
    "e1.welcome()\n",
    "e2.welcome()\n",
    "e3.welcome()"
   ]
  },
  {
   "cell_type": "markdown",
   "id": "8e1d652e",
   "metadata": {},
   "source": [
    "Q4. Why self is used in OOPs?"
   ]
  },
  {
   "cell_type": "markdown",
   "id": "46148460",
   "metadata": {},
   "source": [
    "The self variable is used to represent the instance of the class which is often used in object-oriented programming. It works as a reference to the object. Python uses the self parameter to refer to instance attributes and methods of the class.\n",
    "Python does not use the “@” syntax to access the instance attributes. This is the sole reason why you need to use the self variable in Python. \n",
    "self is not a keyword.\n"
   ]
  },
  {
   "cell_type": "markdown",
   "id": "5969d390",
   "metadata": {},
   "source": [
    "Q5. What is inheritance? Give an example for each type of inheritance."
   ]
  },
  {
   "cell_type": "markdown",
   "id": "9eafaa0c",
   "metadata": {},
   "source": [
    "Inheritance is defined as the mechanism of inheriting the properties of the base class to the child/derived class.\n",
    "The benefits of Inheritance in Python are :\n",
    "\n",
    "It represents real-world relationships well.\n",
    "\n",
    "It provides the reusability of a code.\n",
    "\n",
    "It allows us to add more features to a class without modifying it.\n",
    "\n",
    "It is transitive in nature, which means that if class B inherits from another class A, then all the subclasses of B would automatically inherit from class A.\n",
    "\n",
    "Inheritance offers a simple, understandable model structure. \n",
    "\n",
    "Less development and maintenance expenses result from inheritance. "
   ]
  },
  {
   "cell_type": "markdown",
   "id": "00993082",
   "metadata": {},
   "source": [
    "Single Inheritance: \n",
    "Single inheritance enables a derived class to inherit properties from a single parent class, thus enabling code reusability and the addition of new features to existing code.\n",
    "\n",
    "Example: Vehicle (Base) -> Car (Derived)\n",
    "\n",
    "\n",
    "Multiple Inheritance: \n",
    "When a class can be derived from more than one base class this type of inheritance is called multiple inheritances. In multiple inheritances, all the features of the base classes are inherited into the derived class. \n",
    "\n",
    "Example: Father(Base 1),Mother(Base2) -> Child(Derived)\n",
    "\n",
    "Multilevel Inheritance :\n",
    "In multilevel inheritance, features of the base class and the derived class are further inherited into the new derived class. \n",
    "\n",
    "Example:Grand Father(Base 1)->Father(Base2,Derived 1) -> Son(Derived 2)\n",
    "\n",
    "Hierarchical Inheritance: \n",
    "When more than one derived class are created from a single base this type of inheritance is called hierarchical inheritance. In this program, we have a parent (base) class and two child (derived) classes.\n",
    "\n",
    "Example: Father(Base)-> Son(Derived 1).Daughter(Derived 2)\n",
    "\n",
    "Hybrid Inheritance: \n",
    "Inheritance consisting of multiple types of inheritance is called hybrid inheritance.\n",
    "\n",
    "Example:Grand Father(Base 1),Grand Mother(Base 2)->Father(Derived 1),Mother(Base 3)->Son(Derived 2),Daughter(Derived 3)"
   ]
  }
 ],
 "metadata": {
  "kernelspec": {
   "display_name": "Python 3 (ipykernel)",
   "language": "python",
   "name": "python3"
  },
  "language_info": {
   "codemirror_mode": {
    "name": "ipython",
    "version": 3
   },
   "file_extension": ".py",
   "mimetype": "text/x-python",
   "name": "python",
   "nbconvert_exporter": "python",
   "pygments_lexer": "ipython3",
   "version": "3.10.9"
  }
 },
 "nbformat": 4,
 "nbformat_minor": 5
}
